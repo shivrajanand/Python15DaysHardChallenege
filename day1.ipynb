{
 "cells": [
  {
   "cell_type": "code",
   "execution_count": 26,
   "metadata": {},
   "outputs": [],
   "source": [
    "intro = \"\"\"\n",
    "Author: Shivraj Anand\n",
    "shivrajanand022002@gmail.com\n",
    "github: github.com/shivrajanand\n",
    "\"\"\""
   ]
  },
  {
   "cell_type": "code",
   "execution_count": 27,
   "metadata": {},
   "outputs": [
    {
     "name": "stdout",
     "output_type": "stream",
     "text": [
      "Python is a general purpose dynamically typed high level language\n"
     ]
    }
   ],
   "source": [
    "# What is Python, and what are its main features?\n",
    "\n",
    "answer = \"\"\"Python is a general purpose dynamically typed high level language\"\"\"\n",
    "\n",
    "print(answer)"
   ]
  },
  {
   "cell_type": "code",
   "execution_count": 28,
   "metadata": {},
   "outputs": [
    {
     "name": "stdout",
     "output_type": "stream",
     "text": [
      "Hello World\n"
     ]
    }
   ],
   "source": [
    "# 3. Write a Python script that prints \"Hello, World!\" when executed.\n",
    "\n",
    "print(\"Hello World\")"
   ]
  },
  {
   "cell_type": "code",
   "execution_count": 29,
   "metadata": {},
   "outputs": [
    {
     "name": "stdout",
     "output_type": "stream",
     "text": [
      "The major difference between Python 2 and 3 is its UNICODE support. \n",
      "Python 2 doesnt have any unicode support which causes issues while handling text data across different languages and encodings\n"
     ]
    }
   ],
   "source": [
    "# Describe the difference between Python 2.x and Python 3.x.\n",
    "\n",
    "answer = \"\"\"The major difference between Python 2 and 3 is its UNICODE support. \n",
    "Python 2 doesnt have any unicode support which causes issues while handling text data across different languages and encodings\"\"\"\n",
    "print(answer)"
   ]
  },
  {
   "cell_type": "code",
   "execution_count": 30,
   "metadata": {},
   "outputs": [],
   "source": [
    "# Name at least three popular Integrated Development Environments (IDEs) for Python.\n",
    "\n",
    "#VSCODE, Pycharm, PYTHON IDLE"
   ]
  },
  {
   "cell_type": "code",
   "execution_count": 31,
   "metadata": {},
   "outputs": [
    {
     "name": "stdout",
     "output_type": "stream",
     "text": [
      "\n",
      "There are 5 major types of data types \n",
      "1. Numerics\n",
      "2. Strings\n",
      "3. Lists\n",
      "4. Tuples\n",
      "5. Dictionary\n",
      "\n"
     ]
    }
   ],
   "source": [
    "# What are Python's main data types?\n",
    "\n",
    "ans = \"\"\"\n",
    "There are 5 major types of data types \n",
    "1. Numerics\n",
    "2. Strings\n",
    "3. Lists\n",
    "4. Tuples\n",
    "5. Dictionary\n",
    "\"\"\"\n",
    "\n",
    "print(ans)"
   ]
  },
  {
   "cell_type": "code",
   "execution_count": 32,
   "metadata": {},
   "outputs": [
    {
     "name": "stdout",
     "output_type": "stream",
     "text": [
      "<class 'int'>\n",
      "<class 'str'>\n",
      "<class 'float'>\n"
     ]
    }
   ],
   "source": [
    "# How do you declare and initialize variables in Python?\n",
    "\n",
    "\"\"\"\n",
    "Python is a dynamically types language so it auntomatically detects the type of variable based on its assignment. \n",
    "So in Python there is no independent declaration of variables\n",
    "\"\"\"\n",
    "\n",
    "a = 12 #Declaration and initialization\n",
    "print(type(a))\n",
    "\n",
    "a = \"Hi\"\n",
    "print(type(a))\n",
    "\n",
    "a = 23.2\n",
    "print(type(a))"
   ]
  },
  {
   "cell_type": "code",
   "execution_count": 33,
   "metadata": {},
   "outputs": [
    {
     "name": "stdout",
     "output_type": "stream",
     "text": [
      "Area of triangle of width =  7 and height =  6 is 21.0\n"
     ]
    }
   ],
   "source": [
    "# Write a Python script that calculates the area of a rectangle given its length and width.\n",
    "\n",
    "height = int(input(\"Enter height: \"))\n",
    "width = int(input(\"Enter width: \"))\n",
    "\n",
    "print(\"Area of triangle of width = \", width, \"and height = \", height, \"is\", 0.5*width*height)"
   ]
  },
  {
   "cell_type": "code",
   "execution_count": 34,
   "metadata": {},
   "outputs": [
    {
     "name": "stdout",
     "output_type": "stream",
     "text": [
      "\n",
      "In python indentation is used to define/mark a separate code block\n",
      "Indentation is added whitespaces before statements\n",
      "\n",
      "example:\n",
      "\n",
      "def myfunction():\n",
      "    #Doing Something\n",
      "    #Statement 1\n",
      "    #Statement 2\n",
      "        .\n",
      "        .\n",
      "        .\n",
      "    Statement n\n",
      "\n",
      "The spaces before all the statements is called indentation and it is the function block of function named \"myfunction\"\n",
      "\n"
     ]
    }
   ],
   "source": [
    "# What is the purpose of indentation in Python code?\n",
    "\n",
    "\n",
    "ans = \"\"\"\n",
    "In python indentation is used to define/mark a separate code block\n",
    "Indentation is added whitespaces before statements\n",
    "\n",
    "example:\n",
    "\n",
    "def myfunction():\n",
    "    #Doing Something\n",
    "    #Statement 1\n",
    "    #Statement 2\n",
    "        .\n",
    "        .\n",
    "        .\n",
    "    Statement n\n",
    "\n",
    "The spaces before all the statements is called indentation and it is the function block of function named \"myfunction\"\n",
    "\"\"\"\n",
    "\n",
    "print(ans)"
   ]
  },
  {
   "cell_type": "code",
   "execution_count": 35,
   "metadata": {},
   "outputs": [
    {
     "name": "stdout",
     "output_type": "stream",
     "text": [
      " \n",
      "Lifetime of a python code can be explained in following steps:\n",
      "1. The python source code is written in a .py file (for script mode) or .ipynb (for interactive mode)\n",
      "\n",
      "2. This source code is parsed \n",
      "    2.1 Lexer breaks the source code into tokens\n",
      "    2.2 Parser analyzes sequence of tokens and creates a parse tree\n",
      "    2.3 Syntax check is done. If ERROR is found then program is terminated\n",
      "\n",
      "3. Interpreter interprets the python code into intermediate BYTECODE\n",
      "   BYTECODE is a lowlevel representation of the source code that can be executed by Python virtual Machine (PVM)\n",
      "\n",
      "4. PVM interprets and executes ByteCode in a sequential manner. \n",
      "   Note that in this step there can be a runtime errors which are called Exceptions which has to be dealt by programmer\n",
      "\n"
     ]
    }
   ],
   "source": [
    "# Explain the role of the Python interpreter in executing Python programs.\n",
    "\n",
    "ans = \"\"\" \n",
    "Lifetime of a python code can be explained in following steps:\n",
    "1. The python source code is written in a .py file (for script mode) or .ipynb (for interactive mode)\n",
    "\n",
    "2. This source code is parsed \n",
    "    2.1 Lexer breaks the source code into tokens\n",
    "    2.2 Parser analyzes sequence of tokens and creates a parse tree\n",
    "    2.3 Syntax check is done. If ERROR is found then program is terminated\n",
    "\n",
    "3. Interpreter interprets the python code into intermediate BYTECODE\n",
    "   BYTECODE is a lowlevel representation of the source code that can be executed by Python virtual Machine (PVM)\n",
    "\n",
    "4. PVM interprets and executes ByteCode in a sequential manner. \n",
    "   Note that in this step there can be a runtime errors which are called Exceptions which has to be dealt by programmer\n",
    "\"\"\"\n",
    "\n",
    "print(ans)"
   ]
  }
 ],
 "metadata": {
  "kernelspec": {
   "display_name": "Python 3",
   "language": "python",
   "name": "python3"
  },
  "language_info": {
   "codemirror_mode": {
    "name": "ipython",
    "version": 3
   },
   "file_extension": ".py",
   "mimetype": "text/x-python",
   "name": "python",
   "nbconvert_exporter": "python",
   "pygments_lexer": "ipython3",
   "version": "3.12.3"
  }
 },
 "nbformat": 4,
 "nbformat_minor": 2
}
