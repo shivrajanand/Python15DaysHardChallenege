{
 "cells": [
  {
   "cell_type": "code",
   "execution_count": 1,
   "metadata": {},
   "outputs": [
    {
     "name": "stdout",
     "output_type": "stream",
     "text": [
      "\n",
      "Author: Shivraj Anand\n",
      "shivrajanand022002@gmail.com\n",
      "github: https://github.com/shivrajanand\n",
      "LinkTree: https://www.linktr.ee/shivrajanand\n",
      "Linkedin: https://www.www.linkedin.com/in/shivrajanand\n",
      "\n"
     ]
    }
   ],
   "source": [
    "intro = \"\"\"\n",
    "Author: Shivraj Anand\n",
    "shivrajanand022002@gmail.com\n",
    "github: https://github.com/shivrajanand\n",
    "LinkTree: https://www.linktr.ee/shivrajanand\n",
    "Linkedin: https://www.www.linkedin.com/in/shivrajanand\n",
    "\"\"\"\n",
    "print(intro)"
   ]
  },
  {
   "cell_type": "code",
   "execution_count": 14,
   "metadata": {},
   "outputs": [
    {
     "name": "stdout",
     "output_type": "stream",
     "text": [
      "Length of mystring is 8\n"
     ]
    }
   ],
   "source": [
    "# 1. Write a Python script that takes a string as input and prints its length.\n",
    "\n",
    "string = input(\"Enter string: \")\n",
    "print(f\"Length of {string} is {len(string)}\")\n"
   ]
  },
  {
   "cell_type": "code",
   "execution_count": 15,
   "metadata": {},
   "outputs": [
    {
     "name": "stdout",
     "output_type": "stream",
     "text": [
      "Concatenation of Hello and  World result in Hello World\n"
     ]
    }
   ],
   "source": [
    "# 2. Write a Python script that takes two strings as input and concatenates them to form a single string. Print the concatenated string.\n",
    "\n",
    "str1 = input(\"Enter first string: \")\n",
    "str2 = input(\"Enter second string: \")\n",
    "\n",
    "print(f\"Concatenation of {str1} and {str2} result in {str1+str2}\")"
   ]
  },
  {
   "cell_type": "code",
   "execution_count": 18,
   "metadata": {},
   "outputs": [
    {
     "name": "stdout",
     "output_type": "stream",
     "text": [
      "Original string = hello\n",
      "Uppercase String = HELLO\n"
     ]
    }
   ],
   "source": [
    "# 3. Write a Python script that takes a string as input and converts it to uppercase. Print the uppercase string.\n",
    "string = input(\"Enter string: \")\n",
    "print(f\"Original string = {string}\\nUppercase String = {string.upper()}\")\n"
   ]
  },
  {
   "cell_type": "code",
   "execution_count": 20,
   "metadata": {},
   "outputs": [
    {
     "name": "stdout",
     "output_type": "stream",
     "text": [
      "Number of occurences of 'a' in 'Python 15 days hard challenge' is 3\n"
     ]
    }
   ],
   "source": [
    "# 4. Write a Python script that takes a string as input and counts the number of occurrences of a specific character in the string.\n",
    "string = input(\"Enter string: \")\n",
    "char = input(\"Enter character: \")\n",
    "\n",
    "count = 0\n",
    "for character in string:\n",
    "    if character == char:\n",
    "        count+=1\n",
    "\n",
    "print(f\"Number of occurences of '{char}' in '{string}' is {count}\")"
   ]
  },
  {
   "cell_type": "code",
   "execution_count": 22,
   "metadata": {},
   "outputs": [
    {
     "name": "stdout",
     "output_type": "stream",
     "text": [
      "False\n",
      "True\n"
     ]
    }
   ],
   "source": [
    "# 5. Write a Python script that takes a string as input and checks if it contains only alphabetic characters (letters). \n",
    "# Print True if all characters are alphabetic, otherwise print False.\n",
    "\n",
    "def check_alpha(string):\n",
    "    for character in string:\n",
    "        if not(character.isalpha()):\n",
    "            return False\n",
    "        \n",
    "    return True\n",
    "\n",
    "print(check_alpha(\"Python 15 days hard challenge\"))\n",
    "print(check_alpha(\"Python\"))\n",
    "\n"
   ]
  },
  {
   "cell_type": "code",
   "execution_count": 26,
   "metadata": {},
   "outputs": [
    {
     "name": "stdout",
     "output_type": "stream",
     "text": [
      "True\n",
      "False\n"
     ]
    }
   ],
   "source": [
    "# 6. Write a Python script that takes a string as input and checks if it starts with a specific substring. Print True if it does, otherwise print False.\n",
    "\n",
    "def check_starts_with(string, substring):\n",
    "    for ind in range(len(substring)):\n",
    "        if not (string[ind]==substring[ind]):\n",
    "            return False\n",
    "        \n",
    "    return True\n",
    "\n",
    "\n",
    "print(check_starts_with(\"Sample String\", \"Samp\"))\n",
    "print(check_starts_with(\"Hello how are you?\", \"Hi\"))\n",
    "\n",
    "\n"
   ]
  },
  {
   "cell_type": "code",
   "execution_count": 27,
   "metadata": {},
   "outputs": [
    {
     "name": "stdout",
     "output_type": "stream",
     "text": [
      "True\n",
      "False\n"
     ]
    }
   ],
   "source": [
    "# 7. Write a Python script that takes a string as input and checks if it ends with a specific substring. \n",
    "# Print True if it does, otherwise print False.\n",
    "\n",
    "def check_starts_with(string, substring):\n",
    "    for ind in range(-1, -len(substring), -1):\n",
    "        if not (string[ind]==substring[ind]):\n",
    "            return False\n",
    "        \n",
    "    return True\n",
    "\n",
    "\n",
    "print(check_starts_with(\"Sample String\", \"ring\"))\n",
    "print(check_starts_with(\"Hello how are you?\", \"Hi\"))\n",
    "\n"
   ]
  },
  {
   "cell_type": "code",
   "execution_count": 30,
   "metadata": {},
   "outputs": [
    {
     "name": "stdout",
     "output_type": "stream",
     "text": [
      "Reversed of 'Hello' is  olleH\n"
     ]
    }
   ],
   "source": [
    "# 8. Write a Python script that takes a string as input and reverses it. Print the reversed string.\n",
    "\n",
    "def reverse(string):\n",
    "    reversed = \"\"\n",
    "    for i in range(-1, -(len(string)+1), -1):\n",
    "        reversed += string[i]\n",
    "\n",
    "    return reversed\n",
    "\n",
    "print(\"Reversed of 'Hello' is \", reverse(\"Hello\"))"
   ]
  },
  {
   "cell_type": "code",
   "execution_count": 35,
   "metadata": {},
   "outputs": [
    {
     "name": "stdout",
     "output_type": "stream",
     "text": [
      "abcdcba is palindrome:  True\n",
      "abcddcba is palindrome:  True\n",
      "abcdef is palindrome:  False\n",
      "abcdcba is palindrome:  True\n",
      "abcddcba is palindrome:  True\n",
      "abcdef is palindrome:  False\n"
     ]
    }
   ],
   "source": [
    "# 9. Write a Python script that takes a string as input and checks if it is a palindrome (reads the same forwards and backwards). \n",
    "# Print True if it is, otherwise print False.\n",
    "\n",
    "#Approach 1\n",
    "def reverse(string):\n",
    "    reversed = \"\"\n",
    "    for i in range(-1, -(len(string)+1), -1):\n",
    "        reversed += string[i]\n",
    "\n",
    "    return reversed\n",
    "\n",
    "instr_odd = \"abcdcba\"\n",
    "instr_even = \"abcddcba\"\n",
    "not_palin = \"abcdef\"\n",
    "\n",
    "print(f\"{instr_odd} is palindrome: \", (instr_odd == reverse(instr_odd)))\n",
    "print(f\"{instr_even} is palindrome: \", (instr_even == reverse(instr_even)))\n",
    "print(f\"{not_palin} is palindrome: \", (not_palin == reverse(not_palin)))\n",
    "\n",
    "\n",
    "#Approach 2\n",
    "\n",
    "def check_palindrome(String):\n",
    "    n = len(string)\n",
    "    for i in range(n//2):\n",
    "        if not (String[i] == String[-1-i]):\n",
    "            return False\n",
    "        \n",
    "    return True\n",
    "\n",
    "print(f\"{instr_odd} is palindrome: \", check_palindrome(instr_odd))\n",
    "print(f\"{instr_even} is palindrome: \", check_palindrome(instr_even))\n",
    "print(f\"{not_palin} is palindrome: \", check_palindrome(not_palin))\n",
    "\n"
   ]
  },
  {
   "cell_type": "code",
   "execution_count": 39,
   "metadata": {},
   "outputs": [
    {
     "name": "stdout",
     "output_type": "stream",
     "text": [
      "['Hello', 'Welcome', 'to', 'World', 'of', 'Python']\n"
     ]
    }
   ],
   "source": [
    "# 10. Write a Python script that takes a string as input and splits it into a list of words. Print the list of words.\n",
    "\n",
    "sentence = input(\"Enter string: \")\n",
    "\n",
    "words = []\n",
    "start = 0\n",
    "\n",
    "for i in range(len(sentence)):\n",
    "    if sentence[i] == \" \":\n",
    "        words.append(sentence[start:i])\n",
    "        start = i+1\n",
    "\n",
    "words.append(sentence[start:len(sentence)])\n",
    "\n",
    "    \n",
    "\n",
    "print(words)"
   ]
  },
  {
   "cell_type": "code",
   "execution_count": 42,
   "metadata": {},
   "outputs": [
    {
     "name": "stdout",
     "output_type": "stream",
     "text": [
      "['email@example.com', 'support@example.org']\n"
     ]
    }
   ],
   "source": [
    "# Write a Python script that takes a string as input and extracts all email addresses from it using regular expressions. \n",
    "# Print the list of extracted email addresses.\n",
    "\n",
    "regex = \"Contact us at email@example.com or support@example.org for assistance.\"\n",
    "\n",
    "words = regex.split(\" \")\n",
    "# print(words)\n",
    "\n",
    "email = []\n",
    "for word in words:\n",
    "    if '@' in word and '.' in word:\n",
    "        email.append(word)\n",
    "\n",
    "print(email)"
   ]
  },
  {
   "cell_type": "code",
   "execution_count": 58,
   "metadata": {},
   "outputs": [
    {
     "name": "stdout",
     "output_type": "stream",
     "text": [
      "Name       Grade\n",
      "----------------\n",
      "Alice        85\n",
      "Bob          92\n",
      "Charlie      78\n",
      "David        88\n",
      "\n",
      "\n",
      "Name                   Grade\n",
      "----------------------------\n",
      "Shivraj Anand            57\n",
      "VIshal Kumar Paswan      81\n",
      "Manas Kumar Singh        67\n",
      "Syed Hamid               83\n",
      "Tanya Ragini             81\n",
      "Vishal Kumar Dev         62\n"
     ]
    }
   ],
   "source": [
    "# Write a Python script that takes a list of tuples containing student names and their corresponding grades, and formats it into a nicely aligned table. \n",
    "# Each row should display the student’s name followed by their grade.\n",
    "\n",
    "def preety_printer(Input:str)->None:\n",
    "    maxlen = 0\n",
    "    for item in Input:\n",
    "        if len(item[0])>maxlen:\n",
    "            maxlen = len(item[0])\n",
    "\n",
    "    # print(maxlen)\n",
    "\n",
    "    print(\"Name\", \" \"*(maxlen), \"Grade\\n\", \"-\"*(maxlen+9), sep=\"\")\n",
    "    for item in Input:\n",
    "        print(item[0], \" \"*(maxlen+4-len(item[0])), item[1])\n",
    "\n",
    "\n",
    "preety_printer([(\"Alice\", 85), (\"Bob\", 92), (\"Charlie\", 78), (\"David\", 88)])\n",
    "print(\"\\n\")\n",
    "preety_printer([(\"Shivraj Anand\", 57), (\"VIshal Kumar Paswan\", 81), (\"Manas Kumar Singh\", 67), (\"Syed Hamid\", 83), (\"Tanya Ragini\", 81), (\"Vishal Kumar Dev\", 62)])"
   ]
  },
  {
   "cell_type": "code",
   "execution_count": null,
   "metadata": {},
   "outputs": [],
   "source": []
  }
 ],
 "metadata": {
  "kernelspec": {
   "display_name": "Python 3",
   "language": "python",
   "name": "python3"
  },
  "language_info": {
   "codemirror_mode": {
    "name": "ipython",
    "version": 3
   },
   "file_extension": ".py",
   "mimetype": "text/x-python",
   "name": "python",
   "nbconvert_exporter": "python",
   "pygments_lexer": "ipython3",
   "version": "3.12.3"
  }
 },
 "nbformat": 4,
 "nbformat_minor": 2
}
