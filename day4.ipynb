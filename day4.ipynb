{
 "cells": [
  {
   "cell_type": "code",
   "execution_count": 4,
   "metadata": {},
   "outputs": [
    {
     "name": "stdout",
     "output_type": "stream",
     "text": [
      "\n",
      "Author: Shivraj Anand\n",
      "shivrajanand022002@gmail.com\n",
      "github: https://github.com/shivrajanand\n",
      "LinkTree: https://www.linktr.ee/shivrajanand\n",
      "Linkedin: https://www.www.linkedin.com/in/shivrajanand\n",
      "\n"
     ]
    }
   ],
   "source": [
    "intro = \"\"\"\n",
    "Author: Shivraj Anand\n",
    "shivrajanand022002@gmail.com\n",
    "github: https://github.com/shivrajanand\n",
    "LinkTree: https://www.linktr.ee/shivrajanand\n",
    "Linkedin: https://www.www.linkedin.com/in/shivrajanand\n",
    "\"\"\"\n",
    "print(intro)"
   ]
  },
  {
   "cell_type": "code",
   "execution_count": 14,
   "metadata": {},
   "outputs": [],
   "source": [
    "# 1. Define a Python function called `greet` that takes a name as input and prints \"Hello, [name]!\".\n",
    "\n",
    "def greet(name:str) -> None:\n",
    "    print(f\"Hello {name}!\")"
   ]
  },
  {
   "cell_type": "code",
   "execution_count": 15,
   "metadata": {},
   "outputs": [
    {
     "name": "stdout",
     "output_type": "stream",
     "text": [
      "Hello Shivraj Anand!\n"
     ]
    }
   ],
   "source": [
    "# 2. Call the `greet` function defined in the previous question with your name as an argument.\n",
    "greet(\"Shivraj Anand\")"
   ]
  },
  {
   "cell_type": "code",
   "execution_count": 16,
   "metadata": {},
   "outputs": [],
   "source": [
    "# 3. Define a Python function called `calculate area` that takes the length and width of a rectangle as parameters and returns its area.\n",
    "\n",
    "def calculate_area(length:int, width:int) -> int:\n",
    "    return length*width\n"
   ]
  },
  {
   "cell_type": "code",
   "execution_count": 17,
   "metadata": {},
   "outputs": [
    {
     "name": "stdout",
     "output_type": "stream",
     "text": [
      "15\n"
     ]
    }
   ],
   "source": [
    "# 4. Call the `calculate area` function with length=5 and width=3, and print the result.\n",
    "print(calculate_area(5, 3))\n"
   ]
  },
  {
   "cell_type": "code",
   "execution_count": 19,
   "metadata": {},
   "outputs": [
    {
     "name": "stdout",
     "output_type": "stream",
     "text": [
      "2 raised to power 3 is  8\n",
      "5 raised to power 8 is  390625\n",
      "Default value demonstration. Input = 2. No exponent given. Output =  4\n"
     ]
    }
   ],
   "source": [
    "# 5. Define a Python function called `power` that takes two parameters: a number and its exponent. If no exponent is provided, the function should default to squaring the number.\n",
    "\n",
    "def power(base:int, exponent:int = 2)->int:\n",
    "    return base**exponent\n",
    "\n",
    "print(\"2 raised to power 3 is \", power(2, 3))\n",
    "print(\"5 raised to power 8 is \", power(5, 8))\n",
    "print(\"Default value demonstration. Input = 2. No exponent given. Output = \", power(2))\n"
   ]
  },
  {
   "cell_type": "code",
   "execution_count": 20,
   "metadata": {},
   "outputs": [
    {
     "name": "stdout",
     "output_type": "stream",
     "text": [
      "Before Function Call: x =  10\n"
     ]
    },
    {
     "ename": "UnboundLocalError",
     "evalue": "cannot access local variable 'x' where it is not associated with a value",
     "output_type": "error",
     "traceback": [
      "\u001b[1;31m---------------------------------------------------------------------------\u001b[0m",
      "\u001b[1;31mUnboundLocalError\u001b[0m                         Traceback (most recent call last)",
      "Cell \u001b[1;32mIn[20], line 9\u001b[0m\n\u001b[0;32m      6\u001b[0m     x\u001b[38;5;241m+\u001b[39m\u001b[38;5;241m=\u001b[39m\u001b[38;5;241m5\u001b[39m\n\u001b[0;32m      8\u001b[0m \u001b[38;5;28mprint\u001b[39m(\u001b[38;5;124m\"\u001b[39m\u001b[38;5;124mBefore Function Call: x = \u001b[39m\u001b[38;5;124m\"\u001b[39m, x)\n\u001b[1;32m----> 9\u001b[0m \u001b[43madd_to_x\u001b[49m\u001b[43m(\u001b[49m\u001b[43m)\u001b[49m\n\u001b[0;32m     10\u001b[0m \u001b[38;5;28mprint\u001b[39m(\u001b[38;5;124m\"\u001b[39m\u001b[38;5;124mAfter Function Call: x = \u001b[39m\u001b[38;5;124m\"\u001b[39m, x)\n",
      "Cell \u001b[1;32mIn[20], line 6\u001b[0m, in \u001b[0;36madd_to_x\u001b[1;34m()\u001b[0m\n\u001b[0;32m      5\u001b[0m \u001b[38;5;28;01mdef\u001b[39;00m \u001b[38;5;21madd_to_x\u001b[39m()\u001b[38;5;241m-\u001b[39m\u001b[38;5;241m>\u001b[39m\u001b[38;5;28;01mNone\u001b[39;00m:\n\u001b[1;32m----> 6\u001b[0m     \u001b[43mx\u001b[49m\u001b[38;5;241m+\u001b[39m\u001b[38;5;241m=\u001b[39m\u001b[38;5;241m5\u001b[39m\n",
      "\u001b[1;31mUnboundLocalError\u001b[0m: cannot access local variable 'x' where it is not associated with a value"
     ]
    }
   ],
   "source": [
    "# 6. Define a global variable `x` with a value of 10. Inside a function called `add to x`, add 5 to `x`. Print the value of `x` before and after calling the function.\n",
    "\n",
    "x = 10\n",
    "\n",
    "def add_to_x()->None:\n",
    "    x+=5\n",
    "\n",
    "print(\"Before Function Call: x = \", x)\n",
    "add_to_x()\n",
    "print(\"After Function Call: x = \", x)\n",
    "\n"
   ]
  },
  {
   "cell_type": "code",
   "execution_count": 24,
   "metadata": {},
   "outputs": [
    {
     "name": "stdout",
     "output_type": "stream",
     "text": [
      "List = [23, 65, 43, 87, 78, 56, 90, 64, 32, 12, 78], min = 12, max = 90\n"
     ]
    }
   ],
   "source": [
    "# 7. Define a Python function called `min max` that takes a list of numbers as input and returns both the minimum and maximum values in the list.\n",
    "\n",
    "def minmax(l:list)->list:\n",
    "    minmax = [l[0], l[0]] #1st element is min and 2nd is max\n",
    "\n",
    "    for item in l:\n",
    "        if item < minmax[0]:\n",
    "            minmax[0] = item\n",
    "        \n",
    "        if item > minmax[1]:\n",
    "            minmax[1] = item\n",
    "\n",
    "    return minmax\n",
    "\n",
    "inList = [23, 65, 43, 87, 78, 56, 90, 64, 32, 12, 78]\n",
    "values = minmax(inList)\n",
    "print(f\"List = {inList}, min = {values[0]}, max = {values[1]}\")\n",
    "\n"
   ]
  },
  {
   "cell_type": "code",
   "execution_count": 29,
   "metadata": {},
   "outputs": [
    {
     "name": "stdout",
     "output_type": "stream",
     "text": [
      "Factorial of 1 is 1\n",
      "Factorial of 2 is 2\n",
      "Factorial of 3 is 6\n",
      "Factorial of 4 is 24\n",
      "Factorial of 5 is 120\n",
      "Factorial of 6 is 720\n",
      "Factorial of 7 is 5040\n",
      "Factorial of 8 is 40320\n",
      "Factorial of 9 is 362880\n",
      "Factorial of 10 is 3628800\n"
     ]
    }
   ],
   "source": [
    "# 8. Define a Python function called `factorial` that calculates the factorial of a given number using recursion.\n",
    "\n",
    "def factorial(num:int)->int:\n",
    "    if num == 1:\n",
    "        return 1\n",
    "    else:\n",
    "        return num*factorial(num-1)\n",
    "    \n",
    "\n",
    "for i in range(1, 11):\n",
    "    print(f\"Factorial of {i} is {factorial(i)}\")\n",
    "\n",
    "\n"
   ]
  },
  {
   "cell_type": "code",
   "execution_count": 30,
   "metadata": {},
   "outputs": [
    {
     "name": "stdout",
     "output_type": "stream",
     "text": [
      "Number  of even number in list [23, 65, 43, 87, 78, 56, 90, 64, 32, 12, 78] is 7\n"
     ]
    }
   ],
   "source": [
    "# 9. Define a Python function called `is even` that takes a number as input and returns True if it's even, otherwise returns False. Then define another function called `count even` that takes a list of numbers as input and returns the count of even numbers using the `is even` function.\n",
    "\n",
    "def iseven(num:int)->bool:\n",
    "    return (num%2==0)\n",
    "\n",
    "def count_even(lst:list)->int:\n",
    "    count = 0\n",
    "    for number in lst:\n",
    "        if iseven(number):\n",
    "            count+=1\n",
    "\n",
    "    return count\n",
    "\n",
    "l = [23, 65, 43, 87, 78, 56, 90, 64, 32, 12, 78]\n",
    "\n",
    "print(f\"Number  of even number in list {l} is {count_even(l)}\")\n"
   ]
  },
  {
   "cell_type": "code",
   "execution_count": 4,
   "metadata": {},
   "outputs": [
    {
     "name": "stdout",
     "output_type": "stream",
     "text": [
      "[35, 95, 68, 100, 2, 88, 71, 58, 54, 27]\n",
      "[1225, 9025, 4624, 10000, 4, 7744, 5041, 3364, 2916, 729]\n"
     ]
    }
   ],
   "source": [
    "# 10. Write a Python script that defines a list of numbers and uses a function to calculate the squares of all numbers in the list.\n",
    "\n",
    "import random\n",
    "lst = [random.randint(1, 100) for i in range(10)]\n",
    "\n",
    "square = lambda x: x**2\n",
    "\n",
    "square = [square(x) for x in lst]\n",
    "\n",
    "print(lst)\n",
    "print(square)"
   ]
  },
  {
   "cell_type": "code",
   "execution_count": 6,
   "metadata": {},
   "outputs": [
    {
     "name": "stdout",
     "output_type": "stream",
     "text": [
      "52.2 + 12.2 = 64.4\n",
      "52.2 - 12.2 = 40.0\n",
      "52.2 x 12.2 = 636.84\n",
      "52.2 / 12.2 = 4.278688524590164\n"
     ]
    }
   ],
   "source": [
    "\"\"\"\n",
    "1. Higher-Order Functions:\n",
    "Define a Python function called `apply operation` that takes three arguments: a function `operation`, and two numbers `x` and `y`. The function should apply the given operation\n",
    "to `x` and `y` and return the result. Then, define functions `add`, `subtract`, `multiply`, and `divide` that perform addition, subtraction, multiplication, and division, respectively. Finally, use the `apply operation` function to perform each operation on two given numbers.\n",
    "\"\"\"\n",
    "\n",
    "add = lambda x, y: x+y\n",
    "sub = lambda x, y: x-y\n",
    "mul = lambda x, y: x*y\n",
    "div = lambda x, y: x/y\n",
    "\n",
    "def apply_operation(x: float, y:float, operation)->float:\n",
    "    return operation(x, y)\n",
    "\n",
    "num1 = 52.2\n",
    "num2 = 12.2\n",
    "print(f\"{num1} + {num2} = {apply_operation(num1, num2, add)}\")\n",
    "print(f\"{num1} - {num2} = {apply_operation(num1, num2, sub)}\")\n",
    "print(f\"{num1} x {num2} = {apply_operation(num1, num2, mul)}\")\n",
    "print(f\"{num1} / {num2} = {apply_operation(num1, num2, div)}\")"
   ]
  },
  {
   "cell_type": "code",
   "execution_count": 30,
   "metadata": {},
   "outputs": [
    {
     "name": "stdout",
     "output_type": "stream",
     "text": [
      "arguments =  (1, 2, 3)\n",
      "Function Return Value =  6\n",
      "----------------\n",
      "arguments =  (34, 23, 66)\n",
      "Function Return Value =  123\n",
      "----------------\n",
      "arguments =  (-4, -9, -8)\n",
      "Function Return Value =  -21\n",
      "----------------\n"
     ]
    }
   ],
   "source": [
    "\"\"\"\n",
    "2.. Decorators:\n",
    "Define a Python decorator called `debug` that prints the arguments and return value of a function each time it's called. Apply this decorator to a function and observe its behaviour when called with different arguments.\n",
    "\"\"\"\n",
    "\n",
    "def debug(func):\n",
    "    def mfunc(*args):\n",
    "        print(\"arguments = \", args)\n",
    "\n",
    "        print(\"Function Return Value = \", func(*args))\n",
    "\n",
    "    return mfunc\n",
    "\n",
    "@debug\n",
    "def add(x, y, z):\n",
    "    return x+y+z\n",
    "        \n",
    "\n",
    "add(1, 2, 3)\n",
    "print(\"----------------\")\n",
    "add(34, 23, 66)\n",
    "print(\"----------------\")\n",
    "add(-4, -9, -8)\n",
    "print(\"----------------\")\n"
   ]
  },
  {
   "cell_type": "code",
   "execution_count": 31,
   "metadata": {},
   "outputs": [
    {
     "name": "stdout",
     "output_type": "stream",
     "text": [
      "0\n",
      "1\n",
      "8\n"
     ]
    }
   ],
   "source": [
    "\"\"\"\n",
    "3. Generator Functions:\n",
    "Write a Python generator function called `Fibonacci` that yields the Fibonacci sequence indefinitely. Then, write a function called `get_nth_fibonacci` that takes a number `n` as input and returns the nth Fibonacci number. Use the `Fibonacci` generator to implement `get_nth_fibonacci`.\n",
    "\"\"\"\n",
    "\n",
    "def Fibonacci():\n",
    "    a, b = 0, 1\n",
    "    while True:\n",
    "        yield a\n",
    "        a, b = b, a + b\n",
    "\n",
    "def get_nth_fibonacci(n):\n",
    "    if n <= 0:\n",
    "        raise ValueError(\"Input must be a positive integer\")\n",
    "\n",
    "    fib_gen = Fibonacci()\n",
    "    for _ in range(n):\n",
    "        result = next(fib_gen)\n",
    "    return result\n",
    "\n",
    "print(get_nth_fibonacci(1))  # Output: 0\n",
    "print(get_nth_fibonacci(2))  # Output: 1\n",
    "print(get_nth_fibonacci(7))  # Output: 8\n",
    "\n",
    "\n"
   ]
  },
  {
   "cell_type": "code",
   "execution_count": null,
   "metadata": {},
   "outputs": [],
   "source": []
  }
 ],
 "metadata": {
  "kernelspec": {
   "display_name": "Python 3",
   "language": "python",
   "name": "python3"
  },
  "language_info": {
   "codemirror_mode": {
    "name": "ipython",
    "version": 3
   },
   "file_extension": ".py",
   "mimetype": "text/x-python",
   "name": "python",
   "nbconvert_exporter": "python",
   "pygments_lexer": "ipython3",
   "version": "3.12.3"
  }
 },
 "nbformat": 4,
 "nbformat_minor": 2
}
