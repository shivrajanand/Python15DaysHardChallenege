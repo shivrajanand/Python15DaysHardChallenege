{
 "cells": [
  {
   "cell_type": "code",
   "execution_count": 1,
   "metadata": {},
   "outputs": [
    {
     "name": "stdout",
     "output_type": "stream",
     "text": [
      "\n",
      "Author: Shivraj Anand\n",
      "shivrajanand022002@gmail.com\n",
      "github: https://github.com/shivrajanand\n",
      "LinkTree: https://www.linktr.ee/shivrajanand\n",
      "Linkedin: https://www.www.linkedin.com/in/shivrajanand\n",
      "\n"
     ]
    }
   ],
   "source": [
    "intro = \"\"\"\n",
    "Author: Shivraj Anand\n",
    "shivrajanand022002@gmail.com\n",
    "github: https://github.com/shivrajanand\n",
    "LinkTree: https://www.linktr.ee/shivrajanand\n",
    "Linkedin: https://www.www.linkedin.com/in/shivrajanand\n",
    "\"\"\"\n",
    "print(intro)"
   ]
  },
  {
   "cell_type": "code",
   "execution_count": 14,
   "metadata": {},
   "outputs": [
    {
     "name": "stdout",
     "output_type": "stream",
     "text": [
      "2 is prime\n",
      "22 is not prime\n",
      "34 is not prime\n",
      "47 is prime\n",
      "123 is not prime\n"
     ]
    }
   ],
   "source": [
    "# 1. Write a Python script that checks if a given number is prime or not.\n",
    "\n",
    "def check_prime(n):\n",
    "    for i in range(2, n//2):\n",
    "        if(n%i) == 0:\n",
    "            print(f\"{n} is not prime\")\n",
    "            break\n",
    "    else:\n",
    "        print(f\"{n} is prime\")\n",
    "\n",
    "check_prime(2)\n",
    "check_prime(22)\n",
    "check_prime(34)\n",
    "check_prime(47)\n",
    "check_prime(123)"
   ]
  },
  {
   "cell_type": "code",
   "execution_count": 17,
   "metadata": {},
   "outputs": [
    {
     "name": "stdout",
     "output_type": "stream",
     "text": [
      "Factorial of 8 is 40320\n"
     ]
    }
   ],
   "source": [
    "# 2. Write a Python script that calculates the factorial of a given number using a while loop.\n",
    "\n",
    "num_copy = num = int(input(\"Enter number: \"))\n",
    "fact = 1\n",
    "\n",
    "while (num_copy != 0):\n",
    "    fact = fact*num_copy\n",
    "    num_copy -= 1\n",
    "\n",
    "print(f\"Factorial of {num} is {fact}\")\n",
    "\n"
   ]
  },
  {
   "cell_type": "code",
   "execution_count": 19,
   "metadata": {},
   "outputs": [
    {
     "name": "stdout",
     "output_type": "stream",
     "text": [
      "Table of 6 upto range 15: \n",
      "6 x 1 = 6\n",
      "6 x 2 = 12\n",
      "6 x 3 = 18\n",
      "6 x 4 = 24\n",
      "6 x 5 = 30\n",
      "6 x 6 = 36\n",
      "6 x 7 = 42\n",
      "6 x 8 = 48\n",
      "6 x 9 = 54\n",
      "6 x 10 = 60\n",
      "6 x 11 = 66\n",
      "6 x 12 = 72\n",
      "6 x 13 = 78\n",
      "6 x 14 = 84\n",
      "6 x 15 = 90\n"
     ]
    }
   ],
   "source": [
    "# 3. Write a Python script that generates a multiplication table for a given number up to a specified range.\n",
    "num = int(input(\"Enter Number: \"))\n",
    "table_range = int(input(\"Enter Table range: \"))\n",
    "\n",
    "print(f\"Table of {num} upto range {table_range}: \")\n",
    "for i in range(1, table_range+1):\n",
    "    print(f\"{num} x {i} = {num*i}\")"
   ]
  },
  {
   "cell_type": "code",
   "execution_count": 21,
   "metadata": {},
   "outputs": [
    {
     "name": "stdout",
     "output_type": "stream",
     "text": [
      "Sum of all positive number in give list [2, 4, -3, 6, 7, -6, -8, 4, -1, 0, 3, -9]\n",
      " is 26\n"
     ]
    }
   ],
   "source": [
    "# 4. Write a Python script that takes a list of numbers as input and calculates the sum of all the positive numbers.\n",
    "\n",
    "l = [2, 4, -3, 6, 7, -6, -8, 4, -1, 0, 3, -9]\n",
    "sum = 0\n",
    "\n",
    "for item in l:\n",
    "    if item > 0:\n",
    "        sum += item\n",
    "\n",
    "print(f\"Sum of all positive number in give list {l}\\n is {sum}\")\n"
   ]
  },
  {
   "cell_type": "code",
   "execution_count": 22,
   "metadata": {},
   "outputs": [
    {
     "name": "stdout",
     "output_type": "stream",
     "text": [
      "Input Password = hello\n",
      "Input Password = wrongpass\n",
      "Input Password = pythonhere\n",
      "Input Password = pythonhere\n",
      "Input Password = python123\n"
     ]
    }
   ],
   "source": [
    "# 5. Write a Python script that prompts the user to enter a password. Keep prompting until the correct password \"python123\" is entered.\n",
    "\n",
    "password = \"python123\"\n",
    "input_password = \"\"\n",
    "\n",
    "while (input_password != password):\n",
    "    input_password = input(\"Enter Password: \")\n",
    "    print(f\"Input Password = {input_password}\")\n"
   ]
  },
  {
   "cell_type": "code",
   "execution_count": 24,
   "metadata": {},
   "outputs": [
    {
     "name": "stdout",
     "output_type": "stream",
     "text": [
      "Number of vowels in \"Hello This is Python 15 Days Hard Challenge\" is 10\n"
     ]
    }
   ],
   "source": [
    "# 6. Write a Python script that takes a string as input and counts the number of vowels (a, e, I, o, u) in it.\n",
    "\n",
    "string = input(\"Enter String: \")\n",
    "count = 0\n",
    "\n",
    "for letter in string:\n",
    "    if letter.lower() in ['a', 'e', 'i', 'o', 'u']:\n",
    "        count += 1\n",
    "\n",
    "print(f\"Number of vowels in \\\"{string}\\\" is {count}\")\n"
   ]
  },
  {
   "cell_type": "code",
   "execution_count": 27,
   "metadata": {},
   "outputs": [
    {
     "name": "stdout",
     "output_type": "stream",
     "text": [
      " +  2 +  4 +  6 +  8 +  10 +  12 +  14 +  16 +  18 +  20 +  22 +  24 +  26 +  28 +  30 +  32 +  34 +  36 +  38 +  40 +  42 +  44 +  46 +  48 +  50 +  52 +  54 +  56 +  58 +  60 +  62 +  64 +  66 +  68 +  70 +  72 +  74 +  76 +  78 +  80 +  82 +  84 +  86 +  88 +  90 +  92 +  94 +  96 +  98 +  100 =  2550\n"
     ]
    }
   ],
   "source": [
    "# 7. Write a Python script that calculates the sum of all even numbers between 1 and 100 using a for loop.\n",
    "sum = 0\n",
    "for i in range(2, 101, 2):\n",
    "    print(\" + \", i, end=\"\")\n",
    "    sum += i\n",
    "\n",
    "print(\" = \", sum) \n"
   ]
  },
  {
   "cell_type": "code",
   "execution_count": 33,
   "metadata": {},
   "outputs": [
    {
     "name": "stdout",
     "output_type": "stream",
     "text": [
      "121 is a perfect square with root = 11.0\n"
     ]
    }
   ],
   "source": [
    "# 8. Write a Python script that prompts the user to enter a number and prints whether it is a perfect square or not.\n",
    "\n",
    "num = int(input(\"Enter Number: \"))\n",
    "\n",
    "root = num ** 0.5\n",
    "\n",
    "if (root == int(root)):\n",
    "    print(f\"{num} is a perfect square with root = {root}\")\n",
    "else:\n",
    "    print(f\"{num} is a not perfect square with root = {root}\")\n",
    "\n",
    "\n"
   ]
  },
  {
   "cell_type": "code",
   "execution_count": 40,
   "metadata": {},
   "outputs": [
    {
     "name": "stdout",
     "output_type": "stream",
     "text": [
      "Maximum length word is vaybfrrydafkl\n"
     ]
    }
   ],
   "source": [
    "# 9. Write a Python script that takes a list of words as input and prints the longest word in the list.\n",
    "\n",
    "words = ['enjzpsv', 'aahfb', 'vaybfrrydafkl', 'vvovx', 'igcyrlb', 'zbsogarwt', 'lytpmbb', 'xdshlykwn', 'sxvmpn', 'kbfojrl']\n",
    "\n",
    "max_count = 0\n",
    "max_length_word = \"\"\n",
    "\n",
    "for word in words:\n",
    "    count = 0\n",
    "    for letter in word:\n",
    "        count+=1\n",
    "    \n",
    "    if count >= max_count:\n",
    "        max_count = count\n",
    "        max_length_word = word\n",
    "\n",
    "print(f\"Maximum length word is {max_length_word}\")"
   ]
  },
  {
   "cell_type": "code",
   "execution_count": 43,
   "metadata": {},
   "outputs": [
    {
     "name": "stdout",
     "output_type": "stream",
     "text": [
      "Fibonacci Series upto  10  number of terms: \n",
      "0 ,  1,  1,  2,  3,  5,  8,  13,  21,  34"
     ]
    }
   ],
   "source": [
    "# 10. Write a Python script that generates the Fibonacci sequence up to a specified number of terms.\n",
    "\n",
    "n = int(input(\"Enter number of terms required: \"))\n",
    "print(\"Fibonacci Series upto \", n, \" number of terms: \")\n",
    "term1 = 0\n",
    "term2 = 1\n",
    "print(term1, \", \", term2, end=\"\")\n",
    "for i in range(3, n+1):\n",
    "    temp = term1 + term2\n",
    "    print(\", \", temp, end=\"\")\n",
    "    term1 = term2\n",
    "    term2 = temp\n"
   ]
  },
  {
   "cell_type": "code",
   "execution_count": 49,
   "metadata": {},
   "outputs": [
    {
     "name": "stdout",
     "output_type": "stream",
     "text": [
      "Original String: Python 15 Days Hard Challenge\n",
      "Reversed String: egnellahC draH syaD 51 nohtyP\n"
     ]
    }
   ],
   "source": [
    "# 1. Write a Python script that prompts the user to enter a string and then prints the reverse of the string without using any built-in reverse functions or slicing.\n",
    "\n",
    "string = input(\"Enter String: \")\n",
    "reversed_string = \"\"\n",
    "\n",
    "n = len(string)\n",
    "for i in range(n):\n",
    "    reversed_string = reversed_string + string[n - 1 - i]\n",
    "\n",
    "print(f\"Original String: {string}\\nReversed String: {reversed_string}\")"
   ]
  },
  {
   "cell_type": "code",
   "execution_count": 50,
   "metadata": {},
   "outputs": [
    {
     "name": "stdout",
     "output_type": "stream",
     "text": [
      "Original List: [23, 34, 45, 23, 65, 87, 98, 23, 65, 76, 42, 23, 98]\n",
      "Output List: [23, 34, 45, 65, 87, 98, 76, 42]\n"
     ]
    }
   ],
   "source": [
    "# 2. Write a Python script that takes a list of numbers as input and removes all duplicates, preserving the original order of elements.\n",
    "\n",
    "original_list = [23, 34, 45, 23, 65, 87, 98, 23, 65, 76, 42, 23, 98]\n",
    "\n",
    "out_list = []\n",
    "\n",
    "for item in original_list:\n",
    "    if (item not in out_list):\n",
    "        out_list.append(item)\n",
    "\n",
    "print(f\"Original List: {original_list}\\nOutput List: {out_list}\")\n"
   ]
  },
  {
   "cell_type": "code",
   "execution_count": 56,
   "metadata": {},
   "outputs": [
    {
     "name": "stdout",
     "output_type": "stream",
     "text": [
      "28 is a perfect number\n"
     ]
    }
   ],
   "source": [
    "# 3. Write a Python script that prompts the user to enter a number and then checks if it's a perfect number. A perfect number is a positive integer that is equal to the sum of its proper divisors (excluding itself).\n",
    "\n",
    "num = int(input(\"Enter number: \"))\n",
    "proper_divisors = [1] #1 is the divisor of everything\n",
    "\n",
    "for i in range(2, num):\n",
    "    if (num%i == 0):\n",
    "        proper_divisors.append(i)\n",
    "\n",
    "sum = 0\n",
    "for number in proper_divisors:\n",
    "    sum+=number\n",
    "\n",
    "if (sum == num):\n",
    "    print(f\"{num} is a perfect number\")\n"
   ]
  },
  {
   "cell_type": "code",
   "execution_count": 58,
   "metadata": {},
   "outputs": [
    {
     "name": "stdout",
     "output_type": "stream",
     "text": [
      "Final Result is [82, 88, 76, 32, 49, 3, 27, 37, 63, 9, 95]\n"
     ]
    }
   ],
   "source": [
    "# 4. Write a Python script that takes a list of integers as input and rearranges the elements in such a way that all even numbers appear before all odd numbers. The relative ordering of even and odd numbers should remain unchanged.\n",
    "\n",
    "integers = [49, 3, 82, 27, 88, 37, 76, 63, 9, 95, 32]\n",
    "\n",
    "even = []\n",
    "odd = []\n",
    "\n",
    "for n in integers:\n",
    "    if n%2 == 0:\n",
    "        even.append(n)\n",
    "    else:\n",
    "        odd.append(n)\n",
    "\n",
    "even.extend(odd)\n",
    "\n",
    "print(f\"Final Result is {even}\")\n"
   ]
  },
  {
   "cell_type": "code",
   "execution_count": 67,
   "metadata": {},
   "outputs": [
    {
     "name": "stdout",
     "output_type": "stream",
     "text": [
      "     1     \n",
      "    1 1    \n",
      "   1 2 1   \n",
      "  1 3 3 1  \n",
      " 1 4 6 4 1 \n"
     ]
    }
   ],
   "source": [
    "# 5. Write a Python script that generates the Pascal's triangle up to a specified number of rows. Pascal's triangle is a triangular array of binomial coefficients, where each number is the sum of the two numbers directly above it in the previous row.\n",
    "\n",
    "num_rows = 5\n",
    "triangle = []\n",
    "for i in range(num_rows):\n",
    "    row = [1] * (i + 1)\n",
    "    for j in range(1, i):\n",
    "        row[j] = triangle[i - 1][j - 1] + triangle[i - 1][j]\n",
    "    triangle.append(row)\n",
    "\n",
    "# Calculate maximum width of the rows\n",
    "max_width = len(' '.join(map(str, triangle[-1])))\n",
    "\n",
    "# Print Pascal's triangle with proper spacing\n",
    "for i in range(num_rows):\n",
    "    spacing = (max_width - len(' '.join(map(str, triangle[i])))) // 2\n",
    "    print(\" \" * spacing, ' '.join(map(str, triangle[i])), \" \" * spacing)\n",
    "\n",
    "\n"
   ]
  }
 ],
 "metadata": {
  "kernelspec": {
   "display_name": "Python 3",
   "language": "python",
   "name": "python3"
  },
  "language_info": {
   "codemirror_mode": {
    "name": "ipython",
    "version": 3
   },
   "file_extension": ".py",
   "mimetype": "text/x-python",
   "name": "python",
   "nbconvert_exporter": "python",
   "pygments_lexer": "ipython3",
   "version": "3.12.3"
  }
 },
 "nbformat": 4,
 "nbformat_minor": 2
}
