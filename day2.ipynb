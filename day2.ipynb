{
 "cells": [
  {
   "cell_type": "code",
   "execution_count": 6,
   "metadata": {},
   "outputs": [],
   "source": [
    "intro = \"\"\"\n",
    "Author: Shivraj Anand\n",
    "shivrajanand022002@gmail.com\n",
    "github: github.com/shivrajanand\n",
    "\"\"\""
   ]
  },
  {
   "cell_type": "code",
   "execution_count": 7,
   "metadata": {},
   "outputs": [
    {
     "name": "stdout",
     "output_type": "stream",
     "text": [
      "Name = Shivraj , Age = 22, City = madhepura\n"
     ]
    }
   ],
   "source": [
    "# Write a Python script that declares variables for storing a person's name, age, and city, and then prints them.\n",
    "\n",
    "name = input(\"Enter name: \")\n",
    "age = int(input(\"Enter age: \"))\n",
    "city = input(\"Enter city: \")\n",
    "\n",
    "print(f\"Name = {name}, Age = {age}, City = {city}\")"
   ]
  },
  {
   "cell_type": "code",
   "execution_count": 8,
   "metadata": {},
   "outputs": [
    {
     "name": "stdout",
     "output_type": "stream",
     "text": [
      "Type of a is  <class 'int'> Id of a is  140736983735000 value of a is  10\n",
      "Type of a is  <class 'float'> Id of a is  2148467200496 value of a is  12.2\n",
      "Type of a is  <class 'str'> Id of a is  2148467408832 value of a is  abcd\n",
      "Type of a is  <class 'bool'> Id of a is  140736982941328 value of a is  True\n"
     ]
    }
   ],
   "source": [
    "# Write a Python script that demonstrates dynamic typing by assigning different types of values to a single variable\n",
    "# Write  a  Python  script  that  initializes  variables  with  different  data  types (integers, floats, strings, Booleans) and prints their types\n",
    "\n",
    "a = 10\n",
    "print(\"Type of a is \", type(a), \"Id of a is \", id(a), \"value of a is \", a)\n",
    "\n",
    "a = 12.2\n",
    "print(\"Type of a is \", type(a), \"Id of a is \", id(a), \"value of a is \", a)\n",
    "\n",
    "a = \"abcd\"\n",
    "print(\"Type of a is \", type(a), \"Id of a is \", id(a), \"value of a is \", a)\n",
    "\n",
    "a = bool(1)\n",
    "print(\"Type of a is \", type(a), \"Id of a is \", id(a), \"value of a is \", a)"
   ]
  },
  {
   "cell_type": "code",
   "execution_count": 9,
   "metadata": {},
   "outputs": [
    {
     "ename": "TypeError",
     "evalue": "'tuple' object does not support item assignment",
     "output_type": "error",
     "traceback": [
      "\u001b[1;31m---------------------------------------------------------------------------\u001b[0m",
      "\u001b[1;31mTypeError\u001b[0m                                 Traceback (most recent call last)",
      "Cell \u001b[1;32mIn[9], line 7\u001b[0m\n\u001b[0;32m      4\u001b[0m tuple1 \u001b[38;5;241m=\u001b[39m (\u001b[38;5;241m1\u001b[39m, \u001b[38;5;241m2\u001b[39m, \u001b[38;5;241m3\u001b[39m)\n\u001b[0;32m      6\u001b[0m list1[\u001b[38;5;241m2\u001b[39m] \u001b[38;5;241m=\u001b[39m \u001b[38;5;241m4\u001b[39m \u001b[38;5;66;03m#No error in list assignment\u001b[39;00m\n\u001b[1;32m----> 7\u001b[0m \u001b[43mtuple1\u001b[49m\u001b[43m[\u001b[49m\u001b[38;5;241;43m2\u001b[39;49m\u001b[43m]\u001b[49m \u001b[38;5;241m=\u001b[39m \u001b[38;5;241m4\u001b[39m \u001b[38;5;66;03m#Error in tuple assignment\u001b[39;00m\n",
      "\u001b[1;31mTypeError\u001b[0m: 'tuple' object does not support item assignment"
     ]
    }
   ],
   "source": [
    "# Write a Python script that demonstrates the mutability of lists (mutable) and tuples (immutable) by performing operations on them.\n",
    "\n",
    "list1 = [1, 2, 3]\n",
    "tuple1 = (1, 2, 3)\n",
    "\n",
    "list1[2] = 4 #No error in list assignment\n",
    "tuple1[2] = 4 #Error in tuple assignment\n"
   ]
  },
  {
   "cell_type": "code",
   "execution_count": 10,
   "metadata": {},
   "outputs": [
    {
     "name": "stdout",
     "output_type": "stream",
     "text": [
      "22\n"
     ]
    }
   ],
   "source": [
    "#  Write  a  Python  script  that  prompts  the  user  to  enter  their  age  as  a  string, converts it to an integer, and then prints it.\n",
    "\n",
    "age = input(\"Enter age: \")\n",
    "age = int(age)\n",
    "print(age)\n"
   ]
  },
  {
   "cell_type": "code",
   "execution_count": 11,
   "metadata": {},
   "outputs": [],
   "source": [
    "# Write a Python script that declares variables with meaningful names following the snake case convention.\n",
    "\n",
    "age_of_student = 22\n",
    "name_of_student = \"Shivraj Anand\"\n",
    "branch_of_student = \"CSE\"\n"
   ]
  },
  {
   "cell_type": "code",
   "execution_count": 13,
   "metadata": {},
   "outputs": [
    {
     "name": "stdout",
     "output_type": "stream",
     "text": [
      "X before and outside function:  10\n",
      "X inside function:  11\n",
      "X after and outside function:  10\n"
     ]
    }
   ],
   "source": [
    "# Write a Python script that demonstrates local and global variable scope by defining variables inside and outside functions.\n",
    "\n",
    "x = 10\n",
    "print(\"X before and outside function: \", x)\n",
    "def func():\n",
    "    x = 11\n",
    "    print(\"X inside function: \", x)\n",
    "func()\n",
    "print(\"X after and outside function: \", x)"
   ]
  },
  {
   "cell_type": "code",
   "execution_count": 14,
   "metadata": {},
   "outputs": [
    {
     "name": "stdout",
     "output_type": "stream",
     "text": [
      "Area of circle is:  28.259999999999998\n"
     ]
    }
   ],
   "source": [
    "# Write a Python script that defines a constant (e.g., PI) and uses it in a calculation.\n",
    "\n",
    "PI = 3.14\n",
    "radius = 3\n",
    "\n",
    "print(\"Area of circle is: \", PI*radius*radius)"
   ]
  },
  {
   "cell_type": "code",
   "execution_count": 16,
   "metadata": {},
   "outputs": [
    {
     "name": "stdout",
     "output_type": "stream",
     "text": [
      "Value of a is  10\n",
      "Value of a is  13\n",
      "Value of a is  34\n",
      "Value of a is  425\n",
      "Value of a is  234\n"
     ]
    }
   ],
   "source": [
    "# Write a Python script that demonstrates variable reassignment by assigning different values to the same variable and printing its final value.\n",
    "\n",
    "a = 10\n",
    "print(\"Value of a is \", a)\n",
    "\n",
    "a = 13\n",
    "print(\"Value of a is \", a)\n",
    "\n",
    "a = 34\n",
    "print(\"Value of a is \", a)\n",
    "\n",
    "a = 425\n",
    "print(\"Value of a is \", a)\n",
    "\n",
    "a = 234\n",
    "print(\"Value of a is \", a)"
   ]
  },
  {
   "cell_type": "code",
   "execution_count": 1,
   "metadata": {},
   "outputs": [
    {
     "name": "stdout",
     "output_type": "stream",
     "text": [
      "Product of  2 3 and  4 is  24\n"
     ]
    }
   ],
   "source": [
    "# Write a Python script with comments explaining each step of a simple calculation or operation.\n",
    "\n",
    "# Program to get two numbers from user and return their product\n",
    "a = int(input(\"Enter first number: \")) #Getting user input for first number\n",
    "b = int(input(\"Enter second number: \")) #Getting user input for second number\n",
    "c = int(input(\"Enter third number: \")) #Getting user input for third  number\n",
    "\n",
    "product = a*b*c #Multiplying a, b and c and assigning final value to product variable\n",
    "\n",
    "print(\"Product of \", a, b, \"and \", c, \"is \", product)"
   ]
  },
  {
   "cell_type": "code",
   "execution_count": 2,
   "metadata": {},
   "outputs": [
    {
     "name": "stdout",
     "output_type": "stream",
     "text": [
      "Outside function before change x =  10\n",
      "Inside function after change x =  10\n",
      "Inside function after change x =  11\n",
      "Outside function after change x =  11\n"
     ]
    }
   ],
   "source": [
    "# Write a Python script that defines a global variable and modifies it within a function.\n",
    "\n",
    "x = 10\n",
    "print(\"Outside function before change x = \", x)\n",
    "def func():\n",
    "    global x\n",
    "    print(\"Inside function after change x = \", x)\n",
    "    x = x+1\n",
    "    print(\"Inside function after change x = \", x)\n",
    "func()\n",
    "print(\"Outside function after change x = \", x)"
   ]
  },
  {
   "cell_type": "code",
   "execution_count": 4,
   "metadata": {},
   "outputs": [
    {
     "name": "stdout",
     "output_type": "stream",
     "text": [
      "float to integer:  10.2  -->  10\n",
      "integer to float:  10  -->  10.0\n"
     ]
    }
   ],
   "source": [
    "# Write a Python script that demonstrates data type casting by converting a float to an integer and vice versa.\n",
    "\n",
    "a = 10.2\n",
    "print(\"float to integer: \", a, \" --> \", int(a))\n",
    "\n",
    "b = 10\n",
    "print(\"integer to float: \", b, \" --> \", float(b))"
   ]
  },
  {
   "cell_type": "code",
   "execution_count": 13,
   "metadata": {},
   "outputs": [
    {
     "name": "stdout",
     "output_type": "stream",
     "text": [
      "This is a True Block\n"
     ]
    }
   ],
   "source": [
    "# Write a Python script that uses truthiness and falseness to control the flow of execution in a conditional statement.\n",
    "\n",
    "a = bool(1)\n",
    "\n",
    "if (a==1):\n",
    "    print(\"This is a True Block\")\n",
    "\n",
    "if(a == 0):\n",
    "    print(\"This is a False block\")"
   ]
  },
  {
   "cell_type": "code",
   "execution_count": 15,
   "metadata": {},
   "outputs": [
    {
     "name": "stdout",
     "output_type": "stream",
     "text": [
      "1  +  2  =  3\n"
     ]
    }
   ],
   "source": [
    "# Write a Python script that performs a calculation or operation, using descriptive variable names.\n",
    "\n",
    "first_number = 1\n",
    "second_number = 2\n",
    "\n",
    "sum = first_number + second_number \n",
    "\n",
    "print(first_number, \" + \", second_number, \" = \", sum)\n",
    "\n"
   ]
  },
  {
   "cell_type": "code",
   "execution_count": 16,
   "metadata": {},
   "outputs": [
    {
     "name": "stdout",
     "output_type": "stream",
     "text": [
      "Hello  Shivraj Anand ! Welcome to the world of Python\n"
     ]
    }
   ],
   "source": [
    "# Write a Python script that prompts the user to enter their name and then prints a personalized greeting.\n",
    "\n",
    "name = input(\"Enter Name: \")\n",
    "print(\"Hello \", name, \"! Welcome to the world of Python\")\n",
    "\n"
   ]
  },
  {
   "cell_type": "code",
   "execution_count": 19,
   "metadata": {},
   "outputs": [
    {
     "name": "stdout",
     "output_type": "stream",
     "text": [
      "a = 1, b = 2, c= 3\n",
      "a = 1, b = 2, c= 3\n"
     ]
    }
   ],
   "source": [
    "# Write a Python script that uses string interpolation to create a formatted string containing variables.\n",
    "\n",
    "a = 1\n",
    "b = 2\n",
    "c = 3\n",
    "\n",
    "print(\"a = %d, b = %d, c= %d\" % (a, b, c))\n",
    "print(\"a = {}, b = {}, c= {}\".format(a, b, c))\n",
    "\n"
   ]
  },
  {
   "cell_type": "code",
   "execution_count": 27,
   "metadata": {},
   "outputs": [
    {
     "name": "stdout",
     "output_type": "stream",
     "text": [
      "298.06666666666666\n",
      "166.06666666666666\n",
      "10.2\n",
      "166.06666666666666\n"
     ]
    }
   ],
   "source": [
    "# Write a Python script that uses different operators in expressions and demonstrates their precedence.\n",
    "x = 11\n",
    "y = 12\n",
    "z = 13\n",
    "w = 14\n",
    "v = 15\n",
    "\n",
    "result = (x + y) * z - w / v\n",
    "print(result)\n",
    "\n",
    "result = x + (y * z) - w / v\n",
    "print(result)\n",
    "\n",
    "result = x + y * (z - w) / v\n",
    "print(result)\n",
    "\n",
    "\n",
    "result = x + y * z - (w / v)\n",
    "print(result)\n",
    "\n"
   ]
  },
  {
   "cell_type": "code",
   "execution_count": 29,
   "metadata": {},
   "outputs": [
    {
     "name": "stdout",
     "output_type": "stream",
     "text": [
      "Global Namespace:  10\n",
      "Local func1 Namespace:  11\n",
      "Calling func2\n",
      "Nested Local func2 Namespace:  12\n"
     ]
    }
   ],
   "source": [
    "# Write a Python script that defines variables with the same name in different namespaces and prints their values.\n",
    "\n",
    "x = 10\n",
    "print(\"Global Namespace: \",x)\n",
    "\n",
    "def func1():\n",
    "    x = 11\n",
    "    print(\"Local func1 Namespace: \",x)\n",
    "\n",
    "    def func2():\n",
    "        x = 12\n",
    "        print(\"Nested Local func2 Namespace: \",x)\n",
    "\n",
    "    print(\"Calling func2\")\n",
    "    func2()\n",
    "\n",
    "\n",
    "func1()\n",
    "\n",
    "\n",
    "\n"
   ]
  },
  {
   "cell_type": "code",
   "execution_count": 32,
   "metadata": {},
   "outputs": [
    {
     "name": "stdout",
     "output_type": "stream",
     "text": [
      "Total interest generated over\n",
      "principle:  10000.0 \n",
      "fund type:  large \n",
      "number of days:  35 \n",
      "is:  700000.0\n"
     ]
    }
   ],
   "source": [
    "# Write a Python script that demonstrates the use of different data types (e.g., integer, float, string) in a calculation or operation.\n",
    "\n",
    "#Suppose we want to create a profit  calculator for different types of funds\n",
    "\n",
    "principle = float(input(\"Enter principle amount: \"))\n",
    "\n",
    "fund_type = input(\"Enter name of fund: small/large: \")\n",
    "\n",
    "no_of_days = int(input(\"Enter number of days for keeping fund: \"))\n",
    "\n",
    "if fund_type == 'large':\n",
    "    interest_amount = principle*no_of_days*2\n",
    "\n",
    "if fund_type == 'small':\n",
    "    interest_amount = principle*no_of_days\n",
    "\n",
    "\n",
    "print(\"Total interest generated over\\nprinciple: \", principle, \"\\nfund type: \", fund_type, \"\\nnumber of days: \", no_of_days, \"\\nis: \", interest_amount)"
   ]
  }
 ],
 "metadata": {
  "kernelspec": {
   "display_name": "Python 3",
   "language": "python",
   "name": "python3"
  },
  "language_info": {
   "codemirror_mode": {
    "name": "ipython",
    "version": 3
   },
   "file_extension": ".py",
   "mimetype": "text/x-python",
   "name": "python",
   "nbconvert_exporter": "python",
   "pygments_lexer": "ipython3",
   "version": "3.12.3"
  }
 },
 "nbformat": 4,
 "nbformat_minor": 2
}
